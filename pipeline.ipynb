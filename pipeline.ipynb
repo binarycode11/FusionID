{
  "nbformat": 4,
  "nbformat_minor": 0,
  "metadata": {
    "colab": {
      "provenance": [],
      "authorship_tag": "ABX9TyMMBI8X8Aj1jRyPEFkS4DhL",
      "include_colab_link": true
    },
    "kernelspec": {
      "name": "python3",
      "display_name": "Python 3"
    },
    "language_info": {
      "name": "python"
    }
  },
  "cells": [
    {
      "cell_type": "markdown",
      "metadata": {
        "id": "view-in-github",
        "colab_type": "text"
      },
      "source": [
        "<a href=\"https://colab.research.google.com/github/wagner1986/PapyrusTech/blob/main/pipeline.ipynb\" target=\"_parent\"><img src=\"https://colab.research.google.com/assets/colab-badge.svg\" alt=\"Open In Colab\"/></a>"
      ]
    },
    {
      "cell_type": "markdown",
      "source": [],
      "metadata": {
        "id": "W-k45N7iWfOA"
      }
    },
    {
      "cell_type": "code",
      "execution_count": 28,
      "metadata": {
        "id": "YvyVr1KXxUGH"
      },
      "outputs": [],
      "source": [
        "from abc import ABC, abstractmethod\n",
        "from typing import Any, List, Tuple\n",
        "from itertools import product\n",
        "\n",
        "class IPreprocessor(ABC):\n",
        "    @abstractmethod\n",
        "    def preprocess(self, image: Any) -> Any: pass\n",
        "\n",
        "class IDetector(ABC):\n",
        "    @abstractmethod\n",
        "    def detect(self, image: Any) -> Tuple[List[Any], List[Any]]: pass\n",
        "\n",
        "class ILocalMatcher(ABC):\n",
        "    @abstractmethod\n",
        "    def match(self, descriptors1: List[Any], descriptors2: List[Any]) -> List[Any]: pass\n",
        "\n",
        "class IGlobalStructurer(ABC):\n",
        "    @abstractmethod\n",
        "    def structure(self, keypoints: List[Any]) -> Any: pass\n",
        "\n",
        "class IGlobalMatcher(ABC):\n",
        "    @abstractmethod\n",
        "    def match_global(self, structure1: Any, structure2: Any) -> float: pass\n",
        "\n",
        "class ImageComparisonPipeline:\n",
        "    __slots__ = ['preprocessor', 'detector', 'local_matcher', 'global_structurer', 'global_matcher']\n",
        "\n",
        "    def __init__(self, preprocessor: IPreprocessor = None, detector: IDetector = None, local_matcher: ILocalMatcher = None, global_structurer: IGlobalStructurer = None, global_matcher: IGlobalMatcher = None):\n",
        "        self.preprocessor = preprocessor\n",
        "        self.detector = detector\n",
        "        self.local_matcher = local_matcher\n",
        "        self.global_structurer = global_structurer\n",
        "        self.global_matcher = global_matcher\n",
        "\n",
        "    def run(self, image1: Any, image2: Any) -> float:\n",
        "        if not all([self.preprocessor, self.detector, self.local_matcher, self.global_structurer, self.global_matcher]):\n",
        "            raise ValueError(\"Pipeline components are not fully set.\")\n",
        "        image1_processed, image2_processed = map(self.preprocessor.preprocess, (image1, image2))\n",
        "        keypoints1, descriptors1 = self.detector.detect(image1_processed)\n",
        "        keypoints2, descriptors2 = self.detector.detect(image2_processed)\n",
        "        matches = self.local_matcher.match(descriptors1, descriptors2)\n",
        "        matched_keypoints1 = [keypoints1[match.queryIdx] for match in matches]\n",
        "        matched_keypoints2 = [keypoints2[match.trainIdx] for match in matches]\n",
        "        structured_kp1 = self.global_structurer.structure(matched_keypoints1)\n",
        "        structured_kp2 = self.global_structurer.structure(matched_keypoints2)\n",
        "        return self.global_matcher.match_global(structured_kp1, structured_kp2)\n",
        "\n",
        "class PipelineGridSearch:\n",
        "    def __init__(self, pipeline: ImageComparisonPipeline, configurations: dict):\n",
        "        self.pipeline = pipeline\n",
        "        self.configurations = configurations\n",
        "\n",
        "    def search(self, image1: Any, image2: Any) -> Tuple[float, dict]:\n",
        "        best_score, best_configuration = -float('inf'), {}\n",
        "\n",
        "        # Correção aqui: Alterar para capturar a configuração atual corretamente\n",
        "        for configuration in product(*self.configurations.values()):\n",
        "            preprocess, detector, local_matcher, global_structurer, global_matcher = configuration\n",
        "            self.pipeline.preprocessor = preprocess\n",
        "            self.pipeline.detector = detector\n",
        "            self.pipeline.local_matcher = local_matcher\n",
        "            self.pipeline.global_structurer = global_structurer\n",
        "            self.pipeline.global_matcher = global_matcher\n",
        "\n",
        "            try:\n",
        "                score = self.pipeline.run(image1, image2)\n",
        "                if score > best_score:\n",
        "                    best_score = score\n",
        "                    # Use a variável 'configuration' em vez de 'config'\n",
        "                    best_configuration = dict(zip(self.configurations.keys(), configuration))\n",
        "            except Exception as e:\n",
        "                # Use a variável 'configuration' para imprimir em caso de erro\n",
        "                print(f\"Error with configuration: {configuration}. Error: {e}\")\n",
        "\n",
        "        return best_score, best_configuration\n",
        "\n"
      ]
    },
    {
      "cell_type": "code",
      "source": [
        "class PreprocessorMock(IPreprocessor):\n",
        "    def __init__(self, name):\n",
        "        self.name = name\n",
        "\n",
        "    def preprocess(self, image):\n",
        "        return image  # Em uma implementação real, o processamento seria feito aqui\n",
        "\n",
        "    def __str__(self):\n",
        "        return f\"Preprocessing with {self.name}\"\n",
        "\n",
        "class DetectorMock(IDetector):\n",
        "    def __init__(self, name):\n",
        "        self.name = name\n",
        "\n",
        "    def detect(self, image):\n",
        "        return [], []  # Em uma implementação real, os keypoints e descriptors seriam retornados\n",
        "    def __str__(self):\n",
        "        return f\"Detecting with {self.name}\"\n",
        "\n",
        "class LocalMatcherMock(ILocalMatcher):\n",
        "    def __init__(self, name):\n",
        "        self.name = name\n",
        "\n",
        "    def match(self, descriptors1, descriptors2):\n",
        "        return []  # Em uma implementação real, os matches seriam retornados\n",
        "    def __str__(self):\n",
        "        return f\"Local matching with {self.name}\"\n",
        "\n",
        "class GlobalStructurerMock(IGlobalStructurer):\n",
        "    def __init__(self, name):\n",
        "        self.name = name\n",
        "\n",
        "    def structure(self, keypoints):\n",
        "\n",
        "        return []  # Em uma implementação real, as correspondências estruturadas seriam retornadas\n",
        "    def __str__(self):\n",
        "        return f\"Global structuring with {self.name}\"\n",
        "\n",
        "class GlobalMatcherMock(IGlobalMatcher):\n",
        "    def __init__(self, name):\n",
        "        self.name = name\n",
        "\n",
        "    def match_global(self, structure1,structure2):\n",
        "        return 0.9  # Em uma implementação real, a pontuação de similaridade seria calculada\n",
        "\n",
        "    def __str__(self):\n",
        "        return f\"Global matching with {self.name}\"\n"
      ],
      "metadata": {
        "id": "t5669YwSxxie"
      },
      "execution_count": 29,
      "outputs": []
    },
    {
      "cell_type": "code",
      "source": [
        "# Configuração das implementações mock\n",
        "preprocessors = [PreprocessorMock(\"Preprocessor A\"), PreprocessorMock(\"Preprocessor B\")]\n",
        "detectors = [DetectorMock(\"Detector A\"), DetectorMock(\"Detector B\")]\n",
        "local_matchers = [LocalMatcherMock(\"Local Matcher A\"), LocalMatcherMock(\"Local Matcher B\")]\n",
        "global_structurers = [GlobalStructurerMock(\"Global Structurer A\"), GlobalStructurerMock(\"Global Structurer B\")]\n",
        "global_matchers = [GlobalMatcherMock(\"Global Matcher A\"), GlobalMatcherMock(\"Global Matcher B\")]\n",
        "\n",
        "configurations = {\n",
        "    'preprocessor': preprocessors,\n",
        "    'detector': detectors,\n",
        "    'local_matcher': local_matchers,\n",
        "    'global_structurer': global_structurers,\n",
        "    'global_matcher': global_matchers\n",
        "}\n",
        "\n",
        "# Inicialização do pipeline e do grid search\n",
        "pipeline = ImageComparisonPipeline()\n",
        "grid_search = PipelineGridSearch(pipeline, configurations)\n",
        "\n",
        "# Execução do grid search\n",
        "best_score, best_configuration = grid_search.search(\"image1\", \"image2\")\n",
        "\n",
        "print(f\"Best Score: {best_score}\")\n",
        "print(\"Best Configuration:\")\n",
        "for key, strategy in best_configuration.items():\n",
        "    print(f\"{key}: {strategy.name}\")\n"
      ],
      "metadata": {
        "colab": {
          "base_uri": "https://localhost:8080/"
        },
        "id": "OgQvihiux0-Q",
        "outputId": "b9968e34-0ff4-4b27-d9ab-3202d877924c"
      },
      "execution_count": 30,
      "outputs": [
        {
          "output_type": "stream",
          "name": "stdout",
          "text": [
            "Best Score: 0.9\n",
            "Best Configuration:\n",
            "preprocessor: Preprocessor A\n",
            "detector: Detector A\n",
            "local_matcher: Local Matcher A\n",
            "global_structurer: Global Structurer A\n",
            "global_matcher: Global Matcher A\n"
          ]
        }
      ]
    }
  ]
}